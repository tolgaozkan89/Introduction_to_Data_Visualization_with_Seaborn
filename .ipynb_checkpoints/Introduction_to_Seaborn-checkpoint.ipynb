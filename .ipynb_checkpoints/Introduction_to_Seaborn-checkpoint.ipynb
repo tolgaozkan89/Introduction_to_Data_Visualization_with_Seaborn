{
 "cells": [
  {
   "cell_type": "markdown",
   "metadata": {},
   "source": [
    "# Introduction to Seaborn"
   ]
  },
  {
   "cell_type": "markdown",
   "metadata": {},
   "source": [
    "##  ----  Quick Summary ----\n",
    "## What are major import topics features?\n",
    "### 1. sns.scatterplot ( x = gdp, y = phones )\n",
    "### 2. sns.countplot ( y = region )\n",
    "### 3. sns.scatterplot ( x = \"total_bill\", y=\"tip\", data=tips )\n",
    "### 4. sns.scatterplot(x=\"total_bill\", y=\"tip\", data=tips, hue=\"smoker\")\n",
    "### 5. sns.scatterplot(x=\"total_bill\", y=\"tip\", data=tips, hue=\"smoker\",hue_order=[\"Yes\",\"No\"])\n",
    "### 6. sns.scatterplot(x=\"total_bill\", y=\"tip\", data=tips, hue=\"smoker\",hue_order=[\"Yes\",\"No\"],palette=hue_colors)"
   ]
  },
  {
   "cell_type": "code",
   "execution_count": 126,
   "metadata": {},
   "outputs": [
    {
     "name": "stdout",
     "output_type": "stream",
     "text": [
      "--------------------------------------------------------------------------------------------------------------------------------------------------------------------------------------------------------------------------------------------------------------------------------------------------------------------------------------------------------------------------------------------------------------------------------------------------------------------------------------------------------------------\n"
     ]
    }
   ],
   "source": [
    "print(\"--\"*250)"
   ]
  },
  {
   "cell_type": "markdown",
   "metadata": {},
   "source": [
    "# PART1: \"countries-of-the-world\" DATASET"
   ]
  },
  {
   "cell_type": "markdown",
   "metadata": {},
   "source": [
    "In this exercise, we'll use a dataset that contains information about 227 countries. This dataset has lots of interesting information on each country, such as the country's birth rates, death rates, and its gross domestic product (GDP). GDP is the value of all the goods and services produced in a year, expressed as dollars per person."
   ]
  },
  {
   "cell_type": "markdown",
   "metadata": {},
   "source": [
    "countries of the world = cotw"
   ]
  },
  {
   "cell_type": "code",
   "execution_count": 50,
   "metadata": {},
   "outputs": [],
   "source": [
    "import matplotlib.pyplot as plt\n",
    "import seaborn as sns\n",
    "\n",
    "import pandas as pd"
   ]
  },
  {
   "cell_type": "code",
   "execution_count": 71,
   "metadata": {},
   "outputs": [],
   "source": [
    "df = pd.read_csv(\"countries-of-the-world.csv\")"
   ]
  },
  {
   "cell_type": "code",
   "execution_count": 72,
   "metadata": {},
   "outputs": [
    {
     "data": {
      "text/html": [
       "<div>\n",
       "<style scoped>\n",
       "    .dataframe tbody tr th:only-of-type {\n",
       "        vertical-align: middle;\n",
       "    }\n",
       "\n",
       "    .dataframe tbody tr th {\n",
       "        vertical-align: top;\n",
       "    }\n",
       "\n",
       "    .dataframe thead th {\n",
       "        text-align: right;\n",
       "    }\n",
       "</style>\n",
       "<table border=\"1\" class=\"dataframe\">\n",
       "  <thead>\n",
       "    <tr style=\"text-align: right;\">\n",
       "      <th></th>\n",
       "      <th>Country</th>\n",
       "      <th>Region</th>\n",
       "      <th>Population</th>\n",
       "      <th>Area (sq. mi.)</th>\n",
       "      <th>Pop. Density (per sq. mi.)</th>\n",
       "      <th>Coastline (coast/area ratio)</th>\n",
       "      <th>Net migration</th>\n",
       "      <th>Infant mortality (per 1000 births)</th>\n",
       "      <th>GDP ($ per capita)</th>\n",
       "      <th>Literacy (%)</th>\n",
       "      <th>Phones (per 1000)</th>\n",
       "      <th>Arable (%)</th>\n",
       "      <th>Crops (%)</th>\n",
       "      <th>Other (%)</th>\n",
       "      <th>Climate</th>\n",
       "      <th>Birthrate</th>\n",
       "      <th>Deathrate</th>\n",
       "      <th>Agriculture</th>\n",
       "      <th>Industry</th>\n",
       "      <th>Service</th>\n",
       "    </tr>\n",
       "  </thead>\n",
       "  <tbody>\n",
       "    <tr>\n",
       "      <th>0</th>\n",
       "      <td>Afghanistan</td>\n",
       "      <td>ASIA (EX. NEAR EAST)</td>\n",
       "      <td>31056997</td>\n",
       "      <td>647500</td>\n",
       "      <td>48,0</td>\n",
       "      <td>0,00</td>\n",
       "      <td>23,06</td>\n",
       "      <td>163,07</td>\n",
       "      <td>700.0</td>\n",
       "      <td>36,0</td>\n",
       "      <td>3,2</td>\n",
       "      <td>12,13</td>\n",
       "      <td>0,22</td>\n",
       "      <td>87,65</td>\n",
       "      <td>1</td>\n",
       "      <td>46,6</td>\n",
       "      <td>20,34</td>\n",
       "      <td>0,38</td>\n",
       "      <td>0,24</td>\n",
       "      <td>0,38</td>\n",
       "    </tr>\n",
       "    <tr>\n",
       "      <th>1</th>\n",
       "      <td>Albania</td>\n",
       "      <td>EASTERN EUROPE</td>\n",
       "      <td>3581655</td>\n",
       "      <td>28748</td>\n",
       "      <td>124,6</td>\n",
       "      <td>1,26</td>\n",
       "      <td>-4,93</td>\n",
       "      <td>21,52</td>\n",
       "      <td>4500.0</td>\n",
       "      <td>86,5</td>\n",
       "      <td>71,2</td>\n",
       "      <td>21,09</td>\n",
       "      <td>4,42</td>\n",
       "      <td>74,49</td>\n",
       "      <td>3</td>\n",
       "      <td>15,11</td>\n",
       "      <td>5,22</td>\n",
       "      <td>0,232</td>\n",
       "      <td>0,188</td>\n",
       "      <td>0,579</td>\n",
       "    </tr>\n",
       "    <tr>\n",
       "      <th>2</th>\n",
       "      <td>Algeria</td>\n",
       "      <td>NORTHERN AFRICA</td>\n",
       "      <td>32930091</td>\n",
       "      <td>2381740</td>\n",
       "      <td>13,8</td>\n",
       "      <td>0,04</td>\n",
       "      <td>-0,39</td>\n",
       "      <td>31</td>\n",
       "      <td>6000.0</td>\n",
       "      <td>70,0</td>\n",
       "      <td>78,1</td>\n",
       "      <td>3,22</td>\n",
       "      <td>0,25</td>\n",
       "      <td>96,53</td>\n",
       "      <td>1</td>\n",
       "      <td>17,14</td>\n",
       "      <td>4,61</td>\n",
       "      <td>0,101</td>\n",
       "      <td>0,6</td>\n",
       "      <td>0,298</td>\n",
       "    </tr>\n",
       "    <tr>\n",
       "      <th>3</th>\n",
       "      <td>American Samoa</td>\n",
       "      <td>OCEANIA</td>\n",
       "      <td>57794</td>\n",
       "      <td>199</td>\n",
       "      <td>290,4</td>\n",
       "      <td>58,29</td>\n",
       "      <td>-20,71</td>\n",
       "      <td>9,27</td>\n",
       "      <td>8000.0</td>\n",
       "      <td>97,0</td>\n",
       "      <td>259,5</td>\n",
       "      <td>10</td>\n",
       "      <td>15</td>\n",
       "      <td>75</td>\n",
       "      <td>2</td>\n",
       "      <td>22,46</td>\n",
       "      <td>3,27</td>\n",
       "      <td>NaN</td>\n",
       "      <td>NaN</td>\n",
       "      <td>NaN</td>\n",
       "    </tr>\n",
       "    <tr>\n",
       "      <th>4</th>\n",
       "      <td>Andorra</td>\n",
       "      <td>WESTERN EUROPE</td>\n",
       "      <td>71201</td>\n",
       "      <td>468</td>\n",
       "      <td>152,1</td>\n",
       "      <td>0,00</td>\n",
       "      <td>6,6</td>\n",
       "      <td>4,05</td>\n",
       "      <td>19000.0</td>\n",
       "      <td>100,0</td>\n",
       "      <td>497,2</td>\n",
       "      <td>2,22</td>\n",
       "      <td>0</td>\n",
       "      <td>97,78</td>\n",
       "      <td>3</td>\n",
       "      <td>8,71</td>\n",
       "      <td>6,25</td>\n",
       "      <td>NaN</td>\n",
       "      <td>NaN</td>\n",
       "      <td>NaN</td>\n",
       "    </tr>\n",
       "  </tbody>\n",
       "</table>\n",
       "</div>"
      ],
      "text/plain": [
       "           Country                               Region  Population  \\\n",
       "0     Afghanistan         ASIA (EX. NEAR EAST)             31056997   \n",
       "1         Albania   EASTERN EUROPE                          3581655   \n",
       "2         Algeria   NORTHERN AFRICA                        32930091   \n",
       "3  American Samoa   OCEANIA                                   57794   \n",
       "4         Andorra   WESTERN EUROPE                            71201   \n",
       "\n",
       "   Area (sq. mi.) Pop. Density (per sq. mi.) Coastline (coast/area ratio)  \\\n",
       "0          647500                       48,0                         0,00   \n",
       "1           28748                      124,6                         1,26   \n",
       "2         2381740                       13,8                         0,04   \n",
       "3             199                      290,4                        58,29   \n",
       "4             468                      152,1                         0,00   \n",
       "\n",
       "  Net migration Infant mortality (per 1000 births)  GDP ($ per capita)  \\\n",
       "0         23,06                             163,07               700.0   \n",
       "1         -4,93                              21,52              4500.0   \n",
       "2         -0,39                                 31              6000.0   \n",
       "3        -20,71                               9,27              8000.0   \n",
       "4           6,6                               4,05             19000.0   \n",
       "\n",
       "  Literacy (%) Phones (per 1000) Arable (%) Crops (%) Other (%) Climate  \\\n",
       "0         36,0               3,2      12,13      0,22     87,65       1   \n",
       "1         86,5              71,2      21,09      4,42     74,49       3   \n",
       "2         70,0              78,1       3,22      0,25     96,53       1   \n",
       "3         97,0             259,5         10        15        75       2   \n",
       "4        100,0             497,2       2,22         0     97,78       3   \n",
       "\n",
       "  Birthrate Deathrate Agriculture Industry Service  \n",
       "0      46,6     20,34        0,38     0,24    0,38  \n",
       "1     15,11      5,22       0,232    0,188   0,579  \n",
       "2     17,14      4,61       0,101      0,6   0,298  \n",
       "3     22,46      3,27         NaN      NaN     NaN  \n",
       "4      8,71      6,25         NaN      NaN     NaN  "
      ]
     },
     "execution_count": 72,
     "metadata": {},
     "output_type": "execute_result"
    }
   ],
   "source": [
    "df.head(5)"
   ]
  },
  {
   "cell_type": "code",
   "execution_count": 73,
   "metadata": {},
   "outputs": [
    {
     "data": {
      "text/plain": [
       "Index(['Country', 'Region', 'Population', 'Area (sq. mi.)',\n",
       "       'Pop. Density (per sq. mi.)', 'Coastline (coast/area ratio)',\n",
       "       'Net migration', 'Infant mortality (per 1000 births)',\n",
       "       'GDP ($ per capita)', 'Literacy (%)', 'Phones (per 1000)', 'Arable (%)',\n",
       "       'Crops (%)', 'Other (%)', 'Climate', 'Birthrate', 'Deathrate',\n",
       "       'Agriculture', 'Industry', 'Service'],\n",
       "      dtype='object')"
      ]
     },
     "execution_count": 73,
     "metadata": {},
     "output_type": "execute_result"
    }
   ],
   "source": [
    "df.columns"
   ]
  },
  {
   "cell_type": "code",
   "execution_count": 74,
   "metadata": {},
   "outputs": [
    {
     "data": {
      "text/html": [
       "<div>\n",
       "<style scoped>\n",
       "    .dataframe tbody tr th:only-of-type {\n",
       "        vertical-align: middle;\n",
       "    }\n",
       "\n",
       "    .dataframe tbody tr th {\n",
       "        vertical-align: top;\n",
       "    }\n",
       "\n",
       "    .dataframe thead th {\n",
       "        text-align: right;\n",
       "    }\n",
       "</style>\n",
       "<table border=\"1\" class=\"dataframe\">\n",
       "  <thead>\n",
       "    <tr style=\"text-align: right;\">\n",
       "      <th></th>\n",
       "      <th>Population</th>\n",
       "      <th>Area (sq. mi.)</th>\n",
       "      <th>GDP ($ per capita)</th>\n",
       "    </tr>\n",
       "  </thead>\n",
       "  <tbody>\n",
       "    <tr>\n",
       "      <th>count</th>\n",
       "      <td>2.270000e+02</td>\n",
       "      <td>2.270000e+02</td>\n",
       "      <td>226.000000</td>\n",
       "    </tr>\n",
       "    <tr>\n",
       "      <th>mean</th>\n",
       "      <td>2.874028e+07</td>\n",
       "      <td>5.982270e+05</td>\n",
       "      <td>9689.823009</td>\n",
       "    </tr>\n",
       "    <tr>\n",
       "      <th>std</th>\n",
       "      <td>1.178913e+08</td>\n",
       "      <td>1.790282e+06</td>\n",
       "      <td>10049.138513</td>\n",
       "    </tr>\n",
       "    <tr>\n",
       "      <th>min</th>\n",
       "      <td>7.026000e+03</td>\n",
       "      <td>2.000000e+00</td>\n",
       "      <td>500.000000</td>\n",
       "    </tr>\n",
       "    <tr>\n",
       "      <th>25%</th>\n",
       "      <td>4.376240e+05</td>\n",
       "      <td>4.647500e+03</td>\n",
       "      <td>1900.000000</td>\n",
       "    </tr>\n",
       "    <tr>\n",
       "      <th>50%</th>\n",
       "      <td>4.786994e+06</td>\n",
       "      <td>8.660000e+04</td>\n",
       "      <td>5550.000000</td>\n",
       "    </tr>\n",
       "    <tr>\n",
       "      <th>75%</th>\n",
       "      <td>1.749777e+07</td>\n",
       "      <td>4.418110e+05</td>\n",
       "      <td>15700.000000</td>\n",
       "    </tr>\n",
       "    <tr>\n",
       "      <th>max</th>\n",
       "      <td>1.313974e+09</td>\n",
       "      <td>1.707520e+07</td>\n",
       "      <td>55100.000000</td>\n",
       "    </tr>\n",
       "  </tbody>\n",
       "</table>\n",
       "</div>"
      ],
      "text/plain": [
       "         Population  Area (sq. mi.)  GDP ($ per capita)\n",
       "count  2.270000e+02    2.270000e+02          226.000000\n",
       "mean   2.874028e+07    5.982270e+05         9689.823009\n",
       "std    1.178913e+08    1.790282e+06        10049.138513\n",
       "min    7.026000e+03    2.000000e+00          500.000000\n",
       "25%    4.376240e+05    4.647500e+03         1900.000000\n",
       "50%    4.786994e+06    8.660000e+04         5550.000000\n",
       "75%    1.749777e+07    4.418110e+05        15700.000000\n",
       "max    1.313974e+09    1.707520e+07        55100.000000"
      ]
     },
     "execution_count": 74,
     "metadata": {},
     "output_type": "execute_result"
    }
   ],
   "source": [
    "df.describe()"
   ]
  },
  {
   "cell_type": "code",
   "execution_count": 75,
   "metadata": {},
   "outputs": [
    {
     "name": "stdout",
     "output_type": "stream",
     "text": [
      "<class 'pandas.core.frame.DataFrame'>\n",
      "RangeIndex: 227 entries, 0 to 226\n",
      "Data columns (total 20 columns):\n",
      " #   Column                              Non-Null Count  Dtype  \n",
      "---  ------                              --------------  -----  \n",
      " 0   Country                             227 non-null    object \n",
      " 1   Region                              227 non-null    object \n",
      " 2   Population                          227 non-null    int64  \n",
      " 3   Area (sq. mi.)                      227 non-null    int64  \n",
      " 4   Pop. Density (per sq. mi.)          227 non-null    object \n",
      " 5   Coastline (coast/area ratio)        227 non-null    object \n",
      " 6   Net migration                       224 non-null    object \n",
      " 7   Infant mortality (per 1000 births)  224 non-null    object \n",
      " 8   GDP ($ per capita)                  226 non-null    float64\n",
      " 9   Literacy (%)                        209 non-null    object \n",
      " 10  Phones (per 1000)                   223 non-null    object \n",
      " 11  Arable (%)                          225 non-null    object \n",
      " 12  Crops (%)                           225 non-null    object \n",
      " 13  Other (%)                           225 non-null    object \n",
      " 14  Climate                             205 non-null    object \n",
      " 15  Birthrate                           224 non-null    object \n",
      " 16  Deathrate                           223 non-null    object \n",
      " 17  Agriculture                         212 non-null    object \n",
      " 18  Industry                            211 non-null    object \n",
      " 19  Service                             212 non-null    object \n",
      "dtypes: float64(1), int64(2), object(17)\n",
      "memory usage: 35.6+ KB\n"
     ]
    }
   ],
   "source": [
    "df.info()"
   ]
  },
  {
   "cell_type": "code",
   "execution_count": 10,
   "metadata": {},
   "outputs": [
    {
     "name": "stdout",
     "output_type": "stream",
     "text": [
      "----------------------------------------------------------------------------------------------------------------------------------------------------------------------------------------------------------------------------------------------------------------------------------------------------------------------------------------------------------------------------------------------------------------------------------------------------------------------------------------------------------------------------------------------------------------------------------------------------------------------------------------------------------------------------------------------------------------------------------------------------------------------------------------------------------------------------------------------------------------------------------------------------------------------------------------------------------------------------------------------------------------------------------------\n"
     ]
    }
   ],
   "source": [
    "print(\"--\"*500)"
   ]
  },
  {
   "cell_type": "markdown",
   "metadata": {},
   "source": [
    " We've created three lists of data from this dataset to get you started. \n",
    "1. \"gdp\" is a list that contains the value of GDP per country, expressed as dollars per person. \n",
    "2. \"phones\" is a list of the number of mobile phones per 1,000 people in that country. \n",
    "3. Finally, \"percent_literate\" is a list that contains the percent of each country's population that can read and write."
   ]
  },
  {
   "cell_type": "code",
   "execution_count": 84,
   "metadata": {},
   "outputs": [],
   "source": [
    "gdp = df.loc[:, \"GDP ($ per capita)\"].to_list()"
   ]
  },
  {
   "cell_type": "code",
   "execution_count": 85,
   "metadata": {},
   "outputs": [
    {
     "data": {
      "text/plain": [
       "list"
      ]
     },
     "execution_count": 85,
     "metadata": {},
     "output_type": "execute_result"
    }
   ],
   "source": [
    "type(gdp)"
   ]
  },
  {
   "cell_type": "code",
   "execution_count": 86,
   "metadata": {},
   "outputs": [
    {
     "data": {
      "text/plain": [
       "[700.0,\n",
       " 4500.0,\n",
       " 6000.0,\n",
       " 8000.0,\n",
       " 19000.0,\n",
       " 1900.0,\n",
       " 8600.0,\n",
       " 11000.0,\n",
       " 11200.0,\n",
       " 3500.0,\n",
       " 28000.0,\n",
       " 29000.0,\n",
       " 30000.0,\n",
       " 3400.0,\n",
       " 16700.0,\n",
       " 16900.0,\n",
       " 1900.0,\n",
       " 15700.0,\n",
       " 6100.0,\n",
       " 29100.0,\n",
       " 4900.0,\n",
       " 1100.0,\n",
       " 36000.0,\n",
       " 1300.0,\n",
       " 2400.0,\n",
       " 6100.0,\n",
       " 9000.0,\n",
       " 7600.0,\n",
       " 16000.0,\n",
       " 18600.0,\n",
       " 7600.0,\n",
       " 1100.0,\n",
       " 1800.0,\n",
       " 600.0,\n",
       " 1900.0,\n",
       " 1800.0,\n",
       " 29800.0,\n",
       " 1400.0,\n",
       " 35000.0,\n",
       " 1100.0,\n",
       " 1200.0,\n",
       " 9900.0,\n",
       " 5000.0,\n",
       " 6300.0,\n",
       " 700.0,\n",
       " 700.0,\n",
       " 700.0,\n",
       " 5000.0,\n",
       " 9100.0,\n",
       " 1400.0,\n",
       " 10600.0,\n",
       " 2900.0,\n",
       " 19200.0,\n",
       " 15700.0,\n",
       " 31100.0,\n",
       " 1300.0,\n",
       " 5400.0,\n",
       " 6000.0,\n",
       " 500.0,\n",
       " 3300.0,\n",
       " 4000.0,\n",
       " 4800.0,\n",
       " 2700.0,\n",
       " 700.0,\n",
       " 12300.0,\n",
       " 700.0,\n",
       " 22000.0,\n",
       " 5800.0,\n",
       " 27400.0,\n",
       " 27600.0,\n",
       " 8300.0,\n",
       " 17500.0,\n",
       " 5500.0,\n",
       " 1700.0,\n",
       " 600.0,\n",
       " 2500.0,\n",
       " 27600.0,\n",
       " 2200.0,\n",
       " 17500.0,\n",
       " 20000.0,\n",
       " 20000.0,\n",
       " 5000.0,\n",
       " 8000.0,\n",
       " 21000.0,\n",
       " 4100.0,\n",
       " 20000.0,\n",
       " 2100.0,\n",
       " 800.0,\n",
       " 4000.0,\n",
       " 1600.0,\n",
       " 2600.0,\n",
       " 28800.0,\n",
       " 13900.0,\n",
       " 30900.0,\n",
       " 2900.0,\n",
       " 3200.0,\n",
       " 7000.0,\n",
       " 1500.0,\n",
       " 29600.0,\n",
       " 21000.0,\n",
       " 19800.0,\n",
       " 26700.0,\n",
       " 3900.0,\n",
       " 28200.0,\n",
       " 24800.0,\n",
       " 4300.0,\n",
       " 6300.0,\n",
       " 1000.0,\n",
       " 800.0,\n",
       " 1300.0,\n",
       " 17800.0,\n",
       " 19000.0,\n",
       " 1600.0,\n",
       " 1700.0,\n",
       " 10200.0,\n",
       " 4800.0,\n",
       " 3000.0,\n",
       " 1000.0,\n",
       " 6400.0,\n",
       " 25000.0,\n",
       " 11400.0,\n",
       " 55100.0,\n",
       " 19400.0,\n",
       " 6700.0,\n",
       " 800.0,\n",
       " 600.0,\n",
       " 9000.0,\n",
       " 3900.0,\n",
       " 900.0,\n",
       " 17700.0,\n",
       " 1600.0,\n",
       " 14400.0,\n",
       " 1800.0,\n",
       " 11400.0,\n",
       " 2600.0,\n",
       " 9000.0,\n",
       " 2000.0,\n",
       " 1800.0,\n",
       " 27000.0,\n",
       " 1800.0,\n",
       " 3400.0,\n",
       " 4000.0,\n",
       " 1200.0,\n",
       " 7200.0,\n",
       " 5000.0,\n",
       " 1400.0,\n",
       " 28600.0,\n",
       " 11400.0,\n",
       " 15000.0,\n",
       " 21600.0,\n",
       " 2300.0,\n",
       " 800.0,\n",
       " 900.0,\n",
       " 12500.0,\n",
       " 37800.0,\n",
       " 13100.0,\n",
       " 2100.0,\n",
       " 9000.0,\n",
       " 6300.0,\n",
       " 2200.0,\n",
       " 4700.0,\n",
       " 5100.0,\n",
       " 4600.0,\n",
       " 11100.0,\n",
       " 18000.0,\n",
       " 16800.0,\n",
       " 21500.0,\n",
       " 5800.0,\n",
       " 7000.0,\n",
       " 8900.0,\n",
       " 1300.0,\n",
       " 2500.0,\n",
       " 8800.0,\n",
       " 5400.0,\n",
       " 6900.0,\n",
       " 2900.0,\n",
       " 5600.0,\n",
       " 34600.0,\n",
       " 1200.0,\n",
       " 11800.0,\n",
       " 1600.0,\n",
       " 2200.0,\n",
       " 7800.0,\n",
       " 500.0,\n",
       " 23700.0,\n",
       " 13300.0,\n",
       " 19000.0,\n",
       " 1700.0,\n",
       " 500.0,\n",
       " 10700.0,\n",
       " 22000.0,\n",
       " 3700.0,\n",
       " 1900.0,\n",
       " 4000.0,\n",
       " 4900.0,\n",
       " 26800.0,\n",
       " 32700.0,\n",
       " 3300.0,\n",
       " 23400.0,\n",
       " 1000.0,\n",
       " 600.0,\n",
       " 7400.0,\n",
       " 1500.0,\n",
       " 2200.0,\n",
       " 9500.0,\n",
       " 6900.0,\n",
       " 6700.0,\n",
       " 5800.0,\n",
       " 9600.0,\n",
       " 1100.0,\n",
       " 1400.0,\n",
       " 5400.0,\n",
       " 23200.0,\n",
       " 27700.0,\n",
       " 37800.0,\n",
       " 12800.0,\n",
       " 1700.0,\n",
       " 2900.0,\n",
       " 4800.0,\n",
       " 2500.0,\n",
       " 17200.0,\n",
       " 3700.0,\n",
       " 800.0,\n",
       " nan,\n",
       " 800.0,\n",
       " 800.0,\n",
       " 1900.0]"
      ]
     },
     "execution_count": 86,
     "metadata": {},
     "output_type": "execute_result"
    }
   ],
   "source": [
    "gdp"
   ]
  },
  {
   "cell_type": "code",
   "execution_count": 87,
   "metadata": {},
   "outputs": [],
   "source": [
    "phones = df.loc[:,\"Phones (per 1000)\"].to_list()"
   ]
  },
  {
   "cell_type": "code",
   "execution_count": 88,
   "metadata": {},
   "outputs": [
    {
     "data": {
      "text/plain": [
       "list"
      ]
     },
     "execution_count": 88,
     "metadata": {},
     "output_type": "execute_result"
    }
   ],
   "source": [
    "type(phones)"
   ]
  },
  {
   "cell_type": "code",
   "execution_count": 89,
   "metadata": {},
   "outputs": [
    {
     "data": {
      "text/plain": [
       "['3,2',\n",
       " '71,2',\n",
       " '78,1',\n",
       " '259,5',\n",
       " '497,2',\n",
       " '7,8',\n",
       " '460,0',\n",
       " '549,9',\n",
       " '220,4',\n",
       " '195,7',\n",
       " '516,1',\n",
       " '565,5',\n",
       " '452,2',\n",
       " '137,1',\n",
       " '460,6',\n",
       " '281,3',\n",
       " '7,3',\n",
       " '481,9',\n",
       " '319,1',\n",
       " '462,6',\n",
       " '115,7',\n",
       " '9,7',\n",
       " '851,4',\n",
       " '14,3',\n",
       " '71,9',\n",
       " '215,4',\n",
       " '80,5',\n",
       " '225,3',\n",
       " '506,5',\n",
       " '237,2',\n",
       " '336,3',\n",
       " '7,0',\n",
       " '10,1',\n",
       " '3,4',\n",
       " '2,6',\n",
       " '5,7',\n",
       " '552,2',\n",
       " '169,6',\n",
       " '836,3',\n",
       " '2,3',\n",
       " '1,3',\n",
       " '213,0',\n",
       " '266,7',\n",
       " '176,2',\n",
       " '24,5',\n",
       " '0,2',\n",
       " '3,7',\n",
       " '289,9',\n",
       " '340,7',\n",
       " '14,6',\n",
       " '420,4',\n",
       " '74,7',\n",
       " nan,\n",
       " '314,3',\n",
       " '614,6',\n",
       " '22,8',\n",
       " '304,8',\n",
       " '97,4',\n",
       " nan,\n",
       " '125,6',\n",
       " '131,8',\n",
       " '142,4',\n",
       " '18,5',\n",
       " '7,9',\n",
       " '333,8',\n",
       " '8,2',\n",
       " '503,8',\n",
       " '112,6',\n",
       " '405,3',\n",
       " '586,4',\n",
       " '255,6',\n",
       " '194,5',\n",
       " '27,4',\n",
       " '26,8',\n",
       " '244,3',\n",
       " '146,6',\n",
       " '667,9',\n",
       " '14,4',\n",
       " '877,7',\n",
       " '589,7',\n",
       " '448,9',\n",
       " '364,5',\n",
       " '463,8',\n",
       " '492,0',\n",
       " '92,1',\n",
       " '842,4',\n",
       " '2,7',\n",
       " '7,4',\n",
       " '143,5',\n",
       " '16,9',\n",
       " '67,5',\n",
       " '546,7',\n",
       " '336,2',\n",
       " '647,7',\n",
       " '45,4',\n",
       " '52,0',\n",
       " '276,4',\n",
       " '38,6',\n",
       " '500,5',\n",
       " '676,0',\n",
       " '462,3',\n",
       " '430,9',\n",
       " '124,0',\n",
       " '461,2',\n",
       " '811,3',\n",
       " '104,5',\n",
       " '164,1',\n",
       " '8,1',\n",
       " '42,7',\n",
       " '42,4',\n",
       " '486,1',\n",
       " '211,0',\n",
       " '84,0',\n",
       " '14,1',\n",
       " '321,4',\n",
       " '255,6',\n",
       " '23,7',\n",
       " '2,3',\n",
       " '127,1',\n",
       " '585,5',\n",
       " '223,4',\n",
       " '515,4',\n",
       " '384,9',\n",
       " '260,0',\n",
       " '3,6',\n",
       " '7,9',\n",
       " '179,0',\n",
       " '90,0',\n",
       " '6,4',\n",
       " '505,0',\n",
       " '91,2',\n",
       " '394,4',\n",
       " '12,9',\n",
       " '289,3',\n",
       " '49,7',\n",
       " '181,6',\n",
       " '114,8',\n",
       " '208,1',\n",
       " '1035,6',\n",
       " '55,1',\n",
       " nan,\n",
       " '40,4',\n",
       " '3,5',\n",
       " '62,6',\n",
       " '143,0',\n",
       " '15,9',\n",
       " '460,8',\n",
       " '365,3',\n",
       " '252,2',\n",
       " '441,7',\n",
       " '39,7',\n",
       " '1,9',\n",
       " '9,3',\n",
       " '254,7',\n",
       " '461,7',\n",
       " '85,5',\n",
       " '31,8',\n",
       " '325,6',\n",
       " '137,9',\n",
       " '10,9',\n",
       " '49,2',\n",
       " '79,5',\n",
       " '38,4',\n",
       " '306,3',\n",
       " '399,2',\n",
       " '283,1',\n",
       " '232,0',\n",
       " '380,9',\n",
       " '196,9',\n",
       " '280,6',\n",
       " '2,7',\n",
       " '293,3',\n",
       " '638,9',\n",
       " '303,3',\n",
       " '683,2',\n",
       " '190,9',\n",
       " '75,2',\n",
       " '704,3',\n",
       " '36,2',\n",
       " '140,6',\n",
       " '22,2',\n",
       " '285,8',\n",
       " '262,4',\n",
       " '4,0',\n",
       " '411,4',\n",
       " '220,1',\n",
       " '406,1',\n",
       " '13,4',\n",
       " '11,3',\n",
       " '107,0',\n",
       " '453,5',\n",
       " '61,5',\n",
       " '16,3',\n",
       " '184,7',\n",
       " '30,8',\n",
       " '715,0',\n",
       " '680,9',\n",
       " '153,8',\n",
       " '591,0',\n",
       " '33,5',\n",
       " '4,0',\n",
       " '108,9',\n",
       " '10,6',\n",
       " '97,7',\n",
       " '303,5',\n",
       " '123,6',\n",
       " '269,5',\n",
       " '74,6',\n",
       " '269,5',\n",
       " '59,3',\n",
       " '3,6',\n",
       " '259,9',\n",
       " '475,3',\n",
       " '543,5',\n",
       " '898,0',\n",
       " '291,4',\n",
       " '62,9',\n",
       " '32,6',\n",
       " '140,1',\n",
       " '187,7',\n",
       " '652,8',\n",
       " '118,6',\n",
       " '145,2',\n",
       " nan,\n",
       " '37,2',\n",
       " '8,2',\n",
       " '26,8']"
      ]
     },
     "execution_count": 89,
     "metadata": {},
     "output_type": "execute_result"
    }
   ],
   "source": [
    "phones"
   ]
  },
  {
   "cell_type": "code",
   "execution_count": 92,
   "metadata": {},
   "outputs": [
    {
     "data": {
      "text/plain": [
       "['Afghanistan ',\n",
       " 'Albania ',\n",
       " 'Algeria ',\n",
       " 'American Samoa ',\n",
       " 'Andorra ',\n",
       " 'Angola ',\n",
       " 'Anguilla ',\n",
       " 'Antigua & Barbuda ',\n",
       " 'Argentina ',\n",
       " 'Armenia ',\n",
       " 'Aruba ',\n",
       " 'Australia ',\n",
       " 'Austria ',\n",
       " 'Azerbaijan ',\n",
       " 'Bahamas, The ',\n",
       " 'Bahrain ',\n",
       " 'Bangladesh ',\n",
       " 'Barbados ',\n",
       " 'Belarus ',\n",
       " 'Belgium ',\n",
       " 'Belize ',\n",
       " 'Benin ',\n",
       " 'Bermuda ',\n",
       " 'Bhutan ',\n",
       " 'Bolivia ',\n",
       " 'Bosnia & Herzegovina ',\n",
       " 'Botswana ',\n",
       " 'Brazil ',\n",
       " 'British Virgin Is. ',\n",
       " 'Brunei ',\n",
       " 'Bulgaria ',\n",
       " 'Burkina Faso ',\n",
       " 'Burma ',\n",
       " 'Burundi ',\n",
       " 'Cambodia ',\n",
       " 'Cameroon ',\n",
       " 'Canada ',\n",
       " 'Cape Verde ',\n",
       " 'Cayman Islands ',\n",
       " 'Central African Rep. ',\n",
       " 'Chad ',\n",
       " 'Chile ',\n",
       " 'China ',\n",
       " 'Colombia ',\n",
       " 'Comoros ',\n",
       " 'Congo, Dem. Rep. ',\n",
       " 'Congo, Repub. of the ',\n",
       " 'Cook Islands ',\n",
       " 'Costa Rica ',\n",
       " \"Cote d'Ivoire \",\n",
       " 'Croatia ',\n",
       " 'Cuba ',\n",
       " 'Cyprus ',\n",
       " 'Czech Republic ',\n",
       " 'Denmark ',\n",
       " 'Djibouti ',\n",
       " 'Dominica ',\n",
       " 'Dominican Republic ',\n",
       " 'East Timor ',\n",
       " 'Ecuador ',\n",
       " 'Egypt ',\n",
       " 'El Salvador ',\n",
       " 'Equatorial Guinea ',\n",
       " 'Eritrea ',\n",
       " 'Estonia ',\n",
       " 'Ethiopia ',\n",
       " 'Faroe Islands ',\n",
       " 'Fiji ',\n",
       " 'Finland ',\n",
       " 'France ',\n",
       " 'French Guiana ',\n",
       " 'French Polynesia ',\n",
       " 'Gabon ',\n",
       " 'Gambia, The ',\n",
       " 'Gaza Strip ',\n",
       " 'Georgia ',\n",
       " 'Germany ',\n",
       " 'Ghana ',\n",
       " 'Gibraltar ',\n",
       " 'Greece ',\n",
       " 'Greenland ',\n",
       " 'Grenada ',\n",
       " 'Guadeloupe ',\n",
       " 'Guam ',\n",
       " 'Guatemala ',\n",
       " 'Guernsey ',\n",
       " 'Guinea ',\n",
       " 'Guinea-Bissau ',\n",
       " 'Guyana ',\n",
       " 'Haiti ',\n",
       " 'Honduras ',\n",
       " 'Hong Kong ',\n",
       " 'Hungary ',\n",
       " 'Iceland ',\n",
       " 'India ',\n",
       " 'Indonesia ',\n",
       " 'Iran ',\n",
       " 'Iraq ',\n",
       " 'Ireland ',\n",
       " 'Isle of Man ',\n",
       " 'Israel ',\n",
       " 'Italy ',\n",
       " 'Jamaica ',\n",
       " 'Japan ',\n",
       " 'Jersey ',\n",
       " 'Jordan ',\n",
       " 'Kazakhstan ',\n",
       " 'Kenya ',\n",
       " 'Kiribati ',\n",
       " 'Korea, North ',\n",
       " 'Korea, South ',\n",
       " 'Kuwait ',\n",
       " 'Kyrgyzstan ',\n",
       " 'Laos ',\n",
       " 'Latvia ',\n",
       " 'Lebanon ',\n",
       " 'Lesotho ',\n",
       " 'Liberia ',\n",
       " 'Libya ',\n",
       " 'Liechtenstein ',\n",
       " 'Lithuania ',\n",
       " 'Luxembourg ',\n",
       " 'Macau ',\n",
       " 'Macedonia ',\n",
       " 'Madagascar ',\n",
       " 'Malawi ',\n",
       " 'Malaysia ',\n",
       " 'Maldives ',\n",
       " 'Mali ',\n",
       " 'Malta ',\n",
       " 'Marshall Islands ',\n",
       " 'Martinique ',\n",
       " 'Mauritania ',\n",
       " 'Mauritius ',\n",
       " 'Mayotte ',\n",
       " 'Mexico ',\n",
       " 'Micronesia, Fed. St. ',\n",
       " 'Moldova ',\n",
       " 'Monaco ',\n",
       " 'Mongolia ',\n",
       " 'Montserrat ',\n",
       " 'Morocco ',\n",
       " 'Mozambique ',\n",
       " 'Namibia ',\n",
       " 'Nauru ',\n",
       " 'Nepal ',\n",
       " 'Netherlands ',\n",
       " 'Netherlands Antilles ',\n",
       " 'New Caledonia ',\n",
       " 'New Zealand ',\n",
       " 'Nicaragua ',\n",
       " 'Niger ',\n",
       " 'Nigeria ',\n",
       " 'N. Mariana Islands ',\n",
       " 'Norway ',\n",
       " 'Oman ',\n",
       " 'Pakistan ',\n",
       " 'Palau ',\n",
       " 'Panama ',\n",
       " 'Papua New Guinea ',\n",
       " 'Paraguay ',\n",
       " 'Peru ',\n",
       " 'Philippines ',\n",
       " 'Poland ',\n",
       " 'Portugal ',\n",
       " 'Puerto Rico ',\n",
       " 'Qatar ',\n",
       " 'Reunion ',\n",
       " 'Romania ',\n",
       " 'Russia ',\n",
       " 'Rwanda ',\n",
       " 'Saint Helena ',\n",
       " 'Saint Kitts & Nevis ',\n",
       " 'Saint Lucia ',\n",
       " 'St Pierre & Miquelon ',\n",
       " 'Saint Vincent and the Grenadines ',\n",
       " 'Samoa ',\n",
       " 'San Marino ',\n",
       " 'Sao Tome & Principe ',\n",
       " 'Saudi Arabia ',\n",
       " 'Senegal ',\n",
       " 'Serbia ',\n",
       " 'Seychelles ',\n",
       " 'Sierra Leone ',\n",
       " 'Singapore ',\n",
       " 'Slovakia ',\n",
       " 'Slovenia ',\n",
       " 'Solomon Islands ',\n",
       " 'Somalia ',\n",
       " 'South Africa ',\n",
       " 'Spain ',\n",
       " 'Sri Lanka ',\n",
       " 'Sudan ',\n",
       " 'Suriname ',\n",
       " 'Swaziland ',\n",
       " 'Sweden ',\n",
       " 'Switzerland ',\n",
       " 'Syria ',\n",
       " 'Taiwan ',\n",
       " 'Tajikistan ',\n",
       " 'Tanzania ',\n",
       " 'Thailand ',\n",
       " 'Togo ',\n",
       " 'Tonga ',\n",
       " 'Trinidad & Tobago ',\n",
       " 'Tunisia ',\n",
       " 'Turkey ',\n",
       " 'Turkmenistan ',\n",
       " 'Turks & Caicos Is ',\n",
       " 'Tuvalu ',\n",
       " 'Uganda ',\n",
       " 'Ukraine ',\n",
       " 'United Arab Emirates ',\n",
       " 'United Kingdom ',\n",
       " 'United States ',\n",
       " 'Uruguay ',\n",
       " 'Uzbekistan ',\n",
       " 'Vanuatu ',\n",
       " 'Venezuela ',\n",
       " 'Vietnam ',\n",
       " 'Virgin Islands ',\n",
       " 'Wallis and Futuna ',\n",
       " 'West Bank ',\n",
       " 'Western Sahara ',\n",
       " 'Yemen ',\n",
       " 'Zambia ',\n",
       " 'Zimbabwe ']"
      ]
     },
     "execution_count": 92,
     "metadata": {},
     "output_type": "execute_result"
    }
   ],
   "source": [
    "percent_literate = df.loc[:,\"Country\"].to_list()\n",
    "percent_literate"
   ]
  },
  {
   "cell_type": "markdown",
   "metadata": {},
   "source": [
    "# 1.1 Making a scatter plot with lists"
   ]
  },
  {
   "cell_type": "code",
   "execution_count": 95,
   "metadata": {},
   "outputs": [
    {
     "data": {
      "image/png": "[encoded data removed]",
      "text/plain": [
       "<Figure size 432x288 with 1 Axes>"
      ]
     },
     "metadata": {
      "needs_background": "light"
     },
     "output_type": "display_data"
    }
   ],
   "source": [
    "sns.scatterplot(x=gdp, y=phones)\n",
    "plt.show() "
   ]
  },
  {
   "cell_type": "code",
   "execution_count": 96,
   "metadata": {},
   "outputs": [
    {
     "data": {
      "image/png": "[encoded data removed]",
      "text/plain": [
       "<Figure size 432x288 with 1 Axes>"
      ]
     },
     "metadata": {
      "needs_background": "light"
     },
     "output_type": "display_data"
    }
   ],
   "source": [
    "sns.scatterplot(x=gdp, y=percent_literate)\n",
    "plt.show()"
   ]
  },
  {
   "cell_type": "code",
   "execution_count": 114,
   "metadata": {},
   "outputs": [
    {
     "data": {
      "text/plain": [
       "<function matplotlib.pyplot.show(close=None, block=None)>"
      ]
     },
     "execution_count": 114,
     "metadata": {},
     "output_type": "execute_result"
    },
    {
     "data": {
      "image/png": "[encoded data removed]",
      "text/plain": [
       "<Figure size 432x288 with 1 Axes>"
      ]
     },
     "metadata": {
      "needs_background": "light"
     },
     "output_type": "display_data"
    }
   ],
   "source": [
    "sns.scatterplot(x=gdp, y=percent_literate)\n",
    "plt.show"
   ]
  },
  {
   "cell_type": "markdown",
   "metadata": {},
   "source": [
    "# 1.2 Making a count plot with a list"
   ]
  },
  {
   "cell_type": "markdown",
   "metadata": {},
   "source": [
    "### countplot shows the count of observations"
   ]
  },
  {
   "cell_type": "code",
   "execution_count": 98,
   "metadata": {},
   "outputs": [],
   "source": [
    "region = df.loc[:,\"Region\"]"
   ]
  },
  {
   "cell_type": "code",
   "execution_count": 105,
   "metadata": {},
   "outputs": [
    {
     "data": {
      "text/plain": [
       "<AxesSubplot:xlabel='count', ylabel='Region'>"
      ]
     },
     "execution_count": 105,
     "metadata": {},
     "output_type": "execute_result"
    },
    {
     "data": {
      "image/png": "[encoded data removed]",
      "text/plain": [
       "<Figure size 432x288 with 1 Axes>"
      ]
     },
     "metadata": {
      "needs_background": "light"
     },
     "output_type": "display_data"
    }
   ],
   "source": [
    "sns.countplot(y=region)"
   ]
  },
  {
   "cell_type": "code",
   "execution_count": 106,
   "metadata": {},
   "outputs": [
    {
     "name": "stdout",
     "output_type": "stream",
     "text": [
      "----------------------------------------------------------------------------------------------------------------------------------------------------------------------------------------------------------------------------------------------------------------------------------------------------------------------------------------------------------------------------------------------------------------------------------------------------------------------------------------------------------------------------------------------------------------------------------------------------------------------------------------------------------------------------------------------------------------------------------------------------------------------------------------------------------------------------------------------------------------------------------------------------------------------------------------------------------------------------------------------------------------------------------------\n"
     ]
    }
   ],
   "source": [
    "print(\"--\"*500)"
   ]
  },
  {
   "cell_type": "markdown",
   "metadata": {},
   "source": [
    "# PART2: \"tips\" DATASET"
   ]
  },
  {
   "cell_type": "markdown",
   "metadata": {},
   "source": [
    "# Tips dataset"
   ]
  },
  {
   "cell_type": "code",
   "execution_count": 108,
   "metadata": {},
   "outputs": [],
   "source": [
    "tips = sns.load_dataset(\"tips\")"
   ]
  },
  {
   "cell_type": "code",
   "execution_count": 109,
   "metadata": {},
   "outputs": [
    {
     "data": {
      "text/html": [
       "<div>\n",
       "<style scoped>\n",
       "    .dataframe tbody tr th:only-of-type {\n",
       "        vertical-align: middle;\n",
       "    }\n",
       "\n",
       "    .dataframe tbody tr th {\n",
       "        vertical-align: top;\n",
       "    }\n",
       "\n",
       "    .dataframe thead th {\n",
       "        text-align: right;\n",
       "    }\n",
       "</style>\n",
       "<table border=\"1\" class=\"dataframe\">\n",
       "  <thead>\n",
       "    <tr style=\"text-align: right;\">\n",
       "      <th></th>\n",
       "      <th>total_bill</th>\n",
       "      <th>tip</th>\n",
       "      <th>sex</th>\n",
       "      <th>smoker</th>\n",
       "      <th>day</th>\n",
       "      <th>time</th>\n",
       "      <th>size</th>\n",
       "    </tr>\n",
       "  </thead>\n",
       "  <tbody>\n",
       "    <tr>\n",
       "      <th>0</th>\n",
       "      <td>16.99</td>\n",
       "      <td>1.01</td>\n",
       "      <td>Female</td>\n",
       "      <td>No</td>\n",
       "      <td>Sun</td>\n",
       "      <td>Dinner</td>\n",
       "      <td>2</td>\n",
       "    </tr>\n",
       "    <tr>\n",
       "      <th>1</th>\n",
       "      <td>10.34</td>\n",
       "      <td>1.66</td>\n",
       "      <td>Male</td>\n",
       "      <td>No</td>\n",
       "      <td>Sun</td>\n",
       "      <td>Dinner</td>\n",
       "      <td>3</td>\n",
       "    </tr>\n",
       "    <tr>\n",
       "      <th>2</th>\n",
       "      <td>21.01</td>\n",
       "      <td>3.50</td>\n",
       "      <td>Male</td>\n",
       "      <td>No</td>\n",
       "      <td>Sun</td>\n",
       "      <td>Dinner</td>\n",
       "      <td>3</td>\n",
       "    </tr>\n",
       "    <tr>\n",
       "      <th>3</th>\n",
       "      <td>23.68</td>\n",
       "      <td>3.31</td>\n",
       "      <td>Male</td>\n",
       "      <td>No</td>\n",
       "      <td>Sun</td>\n",
       "      <td>Dinner</td>\n",
       "      <td>2</td>\n",
       "    </tr>\n",
       "    <tr>\n",
       "      <th>4</th>\n",
       "      <td>24.59</td>\n",
       "      <td>3.61</td>\n",
       "      <td>Female</td>\n",
       "      <td>No</td>\n",
       "      <td>Sun</td>\n",
       "      <td>Dinner</td>\n",
       "      <td>4</td>\n",
       "    </tr>\n",
       "  </tbody>\n",
       "</table>\n",
       "</div>"
      ],
      "text/plain": [
       "   total_bill   tip     sex smoker  day    time  size\n",
       "0       16.99  1.01  Female     No  Sun  Dinner     2\n",
       "1       10.34  1.66    Male     No  Sun  Dinner     3\n",
       "2       21.01  3.50    Male     No  Sun  Dinner     3\n",
       "3       23.68  3.31    Male     No  Sun  Dinner     2\n",
       "4       24.59  3.61  Female     No  Sun  Dinner     4"
      ]
     },
     "execution_count": 109,
     "metadata": {},
     "output_type": "execute_result"
    }
   ],
   "source": [
    "tips.head()"
   ]
  },
  {
   "cell_type": "markdown",
   "metadata": {},
   "source": [
    "# 2.1 data=tips"
   ]
  },
  {
   "cell_type": "code",
   "execution_count": 129,
   "metadata": {},
   "outputs": [
    {
     "data": {
      "text/plain": [
       "<function matplotlib.pyplot.show(close=None, block=None)>"
      ]
     },
     "execution_count": 129,
     "metadata": {},
     "output_type": "execute_result"
    },
    {
     "data": {
      "image/png": "[encoded data removed]",
      "text/plain": [
       "<Figure size 432x288 with 1 Axes>"
      ]
     },
     "metadata": {
      "needs_background": "light"
     },
     "output_type": "display_data"
    }
   ],
   "source": [
    "sns.scatterplot(x=\"total_bill\",y=\"tip\",data=tips)\n",
    "plt.show"
   ]
  },
  {
   "cell_type": "markdown",
   "metadata": {},
   "source": [
    "# 2.2 ... +hue=\"smoker\""
   ]
  },
  {
   "cell_type": "code",
   "execution_count": 116,
   "metadata": {},
   "outputs": [
    {
     "data": {
      "text/plain": [
       "<function matplotlib.pyplot.show(close=None, block=None)>"
      ]
     },
     "execution_count": 116,
     "metadata": {},
     "output_type": "execute_result"
    },
    {
     "data": {
      "image/png": "[encoded data removed]",
      "text/plain": [
       "<Figure size 432x288 with 1 Axes>"
      ]
     },
     "metadata": {
      "needs_background": "light"
     },
     "output_type": "display_data"
    }
   ],
   "source": [
    "sns.scatterplot(x=\"total_bill\", y=\"tip\", data=tips, hue=\"smoker\")\n",
    "plt.show"
   ]
  },
  {
   "cell_type": "markdown",
   "metadata": {},
   "source": [
    "# 2.3 ... +hue_order=[\"Yes\",\"No\"]"
   ]
  },
  {
   "cell_type": "code",
   "execution_count": 117,
   "metadata": {},
   "outputs": [
    {
     "data": {
      "text/plain": [
       "<function matplotlib.pyplot.show(close=None, block=None)>"
      ]
     },
     "execution_count": 117,
     "metadata": {},
     "output_type": "execute_result"
    },
    {
     "data": {
      "image/png": "[encoded data removed]",
      "text/plain": [
       "<Figure size 432x288 with 1 Axes>"
      ]
     },
     "metadata": {
      "needs_background": "light"
     },
     "output_type": "display_data"
    }
   ],
   "source": [
    "sns.scatterplot(x=\"total_bill\", y=\"tip\", data=tips, hue=\"smoker\",hue_order=[\"Yes\",\"No\"])\n",
    "plt.show"
   ]
  },
  {
   "cell_type": "code",
   "execution_count": 118,
   "metadata": {},
   "outputs": [
    {
     "data": {
      "text/plain": [
       "<function matplotlib.pyplot.show(close=None, block=None)>"
      ]
     },
     "execution_count": 118,
     "metadata": {},
     "output_type": "execute_result"
    },
    {
     "data": {
      "image/png": "[encoded data removed]",
      "text/plain": [
       "<Figure size 432x288 with 1 Axes>"
      ]
     },
     "metadata": {
      "needs_background": "light"
     },
     "output_type": "display_data"
    }
   ],
   "source": [
    "sns.scatterplot(x=\"total_bill\", y=\"tip\", data=tips, hue=\"smoker\",hue_order=[\"No\",\"Yes\"])\n",
    "plt.show"
   ]
  },
  {
   "cell_type": "markdown",
   "metadata": {},
   "source": [
    "# 2.4 ... palette=hue_colors"
   ]
  },
  {
   "cell_type": "code",
   "execution_count": 120,
   "metadata": {},
   "outputs": [],
   "source": [
    "hue_colors = {\"Yes\":\"black\",\"No\":\"red\"}"
   ]
  },
  {
   "cell_type": "code",
   "execution_count": 121,
   "metadata": {},
   "outputs": [
    {
     "data": {
      "text/plain": [
       "<function matplotlib.pyplot.show(close=None, block=None)>"
      ]
     },
     "execution_count": 121,
     "metadata": {},
     "output_type": "execute_result"
    },
    {
     "data": {
      "image/png": "[encoded data removed]",
      "text/plain": [
       "<Figure size 432x288 with 1 Axes>"
      ]
     },
     "metadata": {
      "needs_background": "light"
     },
     "output_type": "display_data"
    }
   ],
   "source": [
    "sns.scatterplot(x=\"total_bill\", y=\"tip\", data=tips, hue=\"smoker\",hue_order=[\"Yes\",\"No\"],palette=hue_colors)\n",
    "plt.show"
   ]
  }
 ],
 "metadata": {
  "kernelspec": {
   "display_name": "Python 3",
   "language": "python",
   "name": "python3"
  },
  "language_info": {
   "codemirror_mode": {
    "name": "ipython",
    "version": 3
   },
   "file_extension": ".py",
   "mimetype": "text/x-python",
   "name": "python",
   "nbconvert_exporter": "python",
   "pygments_lexer": "ipython3",
   "version": "3.8.5"
  }
 },
 "nbformat": 4,
 "nbformat_minor": 4
}
